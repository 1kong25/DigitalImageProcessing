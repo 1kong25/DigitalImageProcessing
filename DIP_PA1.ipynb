{
 "cells": [
  {
   "cell_type": "markdown",
   "id": "912d314a",
   "metadata": {},
   "source": [
    "# 1. Weber의 법칙"
   ]
  },
  {
   "cell_type": "code",
   "execution_count": null,
   "id": "b85948bb",
   "metadata": {},
   "outputs": [],
   "source": [
    "import cv2\n",
    "import numpy as np\n",
    "\n",
    "# sur1=np.full((300,300),101,dtype=np.uint8)\n",
    "# sur2=np.full((300,300),102,dtype=np.uint8)\n",
    "# sur3=np.full((300,300),103,dtype=np.uint8)\n",
    "# sur4=np.full((300,300),104,dtype=np.uint8)\n",
    "\n",
    "sur1_brighter=np.full((300,300),201,dtype=np.uint8)\n",
    "sur2_brighter=np.full((300,300),202,dtype=np.uint8)\n",
    "sur3_brighter=np.full((300,300),203,dtype=np.uint8)\n",
    "sur4_brighter=np.full((300,300),204,dtype=np.uint8)\n",
    "\n",
    "# obj=cv2.rectangle(sur1,(100,100), (200,200),100,-1)\n",
    "# obj=cv2.rectangle(sur2,(100,100), (200,200),100,-1)\n",
    "# obj=cv2.rectangle(sur3,(100,100), (200,200),100,-1)\n",
    "# obj=cv2.rectangle(sur4,(100,100), (200,200),100,-1)\n",
    "\n",
    "obj=cv2.rectangle(sur1_brighter,(100,100), (200,200),200,-1)\n",
    "obj=cv2.rectangle(sur2_brighter,(100,100), (200,200),200,-1)\n",
    "obj=cv2.rectangle(sur3_brighter,(100,100), (200,200),200,-1)\n",
    "obj=cv2.rectangle(sur4_brighter,(100,100), (200,200),200,-1)\n",
    "\n",
    "# cv2.imshow('|surrond-object|=0.01',sur1)\n",
    "# cv2.imshow('|surrond-object|=0.02',sur2)\n",
    "# cv2.imshow('|surrond-object|=0.03',sur3)\n",
    "# cv2.imshow('|surrond-object|=0.04',sur4)\n",
    "\n",
    "cv2.imshow('|surrond-object|=0.01',sur1_brighter)\n",
    "cv2.imshow('|surrond-object|=0.02',sur2_brighter)\n",
    "cv2.imshow('|surrond-object|=0.03',sur3_brighter)\n",
    "cv2.imshow('|surrond-object|=0.04',sur4_brighter)\n",
    "\n",
    "cv2.waitKey(0)\n",
    "cv2.destroyAllWindows()"
   ]
  },
  {
   "cell_type": "markdown",
   "id": "a4a84d0f",
   "metadata": {},
   "source": [
    "# 2. Mach Band"
   ]
  },
  {
   "cell_type": "code",
   "execution_count": null,
   "id": "0aeaaf70",
   "metadata": {},
   "outputs": [],
   "source": [
    "import cv2\n",
    "import numpy as np\n",
    "import matplotlib.pyplot as plt\n",
    "\n",
    "m=np.full((401,401),0,dtype=np.uint8)\n",
    "\n",
    "count=50\n",
    "for i in range(9):\n",
    "    obj=cv2.rectangle(m,(0+count*i,0), (50+count*i,401), 36*i,-1)\n",
    "\n",
    "x=[0,50,100,150,200,250,300,350,400]\n",
    "plt.xlim(0, 400) #x축 범위\n",
    "plt.ylim(0, 255) #y축 범위\n",
    "plt.plot(x,m[x,x],drawstyle='steps-post')\n",
    "plt.show()\n",
    "\n",
    "cv2.imshow('mach band1',m)\n",
    "cv2.waitKey(0)\n",
    "cv2.destroyAllWindows()"
   ]
  },
  {
   "cell_type": "code",
   "execution_count": null,
   "id": "c33313b3",
   "metadata": {},
   "outputs": [],
   "source": [
    "import cv2\n",
    "import numpy as np\n",
    "import matplotlib.pyplot as plt\n",
    "\n",
    "b=np.full((300,300),0,dtype=np.uint8)\n",
    "w=np.full((300,300),255,dtype=np.uint8)\n",
    "gray = np.linspace(0,255, num=90000, endpoint=True, retstep=False, dtype=np.uint8).reshape(300, 300, 1)\n",
    "gray=cv2.rotate(gray, cv2.ROTATE_90_COUNTERCLOCKWISE)\n",
    "add=cv2.hconcat([b,gray,w])\n",
    "\n",
    "x=[0,100,200,300,400,500,600,700,800,899]\n",
    "plt.plot(x,add[100,x])\n",
    "plt.show()\n",
    "\n",
    "cv2.imshow('mach band2',add)\n",
    "cv2.waitKey(0)\n",
    "cv2.destroyAllWindows()"
   ]
  },
  {
   "cell_type": "markdown",
   "id": "7330c0c5",
   "metadata": {},
   "source": [
    "# 3. MSE, SNR, PSNR"
   ]
  },
  {
   "cell_type": "code",
   "execution_count": null,
   "id": "44643486",
   "metadata": {},
   "outputs": [],
   "source": [
    "import cv2\n",
    "import numpy as np\n",
    "import math\n",
    "\n",
    "#mse(평균제곱오차; 높을수록 품질 낮음)\n",
    "def _mse(img1,img2):\n",
    "    mse = np.mean((img1-img2)**2)\n",
    "    if mse==0:\n",
    "        return \"same image\"\n",
    "    return mse\n",
    "\n",
    "#snr(신호 대 잡음비; 높은수록 품질 좋음)\n",
    "def _snr(img1,img2):\n",
    "    mse = np.mean((img1-img2)**2)\n",
    "    if mse==0:\n",
    "        return \"same image\"\n",
    "    snr = 10 * math.log10(np.var(img1**2) / mse)\n",
    "    return snr\n",
    "\n",
    "\n",
    "#psnr(최대신호 대 잡음비; 높을수록 품질 좋음)\n",
    "def _psnr(img1,img2):\n",
    "    max_pixel = max(img1.shape)\n",
    "    mse = np.mean((img1-img2)**2)\n",
    "    if mse==0:\n",
    "        return \"same image\"\n",
    "    psnr = 10 * math.log10(max_pixel**2 / mse)\n",
    "    return psnr\n",
    "\n",
    "img1 = cv2.imread('/Users/kjh001/Downloads/lenna_gray.bmp')\n",
    "img2 = cv2.imread('/Users/kjh001/Downloads/lenna_blur.bmp')\n",
    "\n",
    "print(\"MSE:\",_mse(img1,img2))\n",
    "print(\"SNR:\",_snr(img1,img2),\"dB\")\n",
    "print(\"PSNR:\",_psnr(img1,img2),\"dB\")"
   ]
  },
  {
   "cell_type": "markdown",
   "id": "8038282e",
   "metadata": {},
   "source": [
    "# 4. RGB -> YCbCr / HIS"
   ]
  },
  {
   "cell_type": "code",
   "execution_count": null,
   "id": "12a50e64",
   "metadata": {},
   "outputs": [],
   "source": [
    "import cv2\n",
    "import numpy as np\n",
    "import matplotlib.pyplot as plt\n",
    "\n",
    "l_rgb = cv2.imread('/Users/kjh001/Downloads/lenna.bmp')\n",
    "l_rgb = cv2.cvtColor(l_rgb, cv2.COLOR_BGR2RGB)\n",
    "r,g,b = cv2.split(l_rgb)\n",
    "\n",
    "plt.subplot(1, 4, 1)\n",
    "plt.imshow(l_rgb)\n",
    "plt.subplot(1, 4, 2)\n",
    "plt.imshow(r)\n",
    "plt.subplot(1, 4, 3) \n",
    "plt.imshow(g)\n",
    "plt.subplot(1, 4, 4)\n",
    "plt.imshow(b)\n",
    "plt.show()"
   ]
  },
  {
   "cell_type": "code",
   "execution_count": null,
   "id": "bcc29ffb",
   "metadata": {},
   "outputs": [],
   "source": [
    "import cv2\n",
    "import numpy as np\n",
    "import matplotlib.pyplot as plt\n",
    "\n",
    "p_rgb =plt.imread('/Users/kjh001/Downloads/pepper.bmp')\n",
    "\n",
    "# BGR->YCbCr로 변환\n",
    "p_ycbcr = cv2.cvtColor(p_rgb, cv2.COLOR_BGR2YCR_CB)\n",
    "y, cb, cr = cv2.split(p_ycbcr)\n",
    "\n",
    "plt.subplot(1, 4, 1)\n",
    "plt.imshow(p_ycbcr)\n",
    "plt.subplot(1, 4, 2)\n",
    "plt.imshow(y)\n",
    "plt.subplot(1, 4, 3) \n",
    "plt.imshow(cb)\n",
    "plt.subplot(1, 4, 4)\n",
    "plt.imshow(cr)\n",
    "plt.show()\n"
   ]
  },
  {
   "cell_type": "code",
   "execution_count": null,
   "id": "e4220be6",
   "metadata": {
    "scrolled": true
   },
   "outputs": [],
   "source": [
    "import cv2\n",
    "import numpy as np\n",
    "import matplotlib.pyplot as plt\n",
    "\n",
    "l_rgb =plt.imread('/Users/kjh001/Downloads/lenna.bmp')\n",
    "\n",
    "# BGR->HSV로 변환\n",
    "l_hsv = cv2.cvtColor(l_rgb, cv2.COLOR_BGR2HSV)\n",
    "h,s,v=cv2.split(l_hsv)\n",
    "\n",
    "plt.subplot(1, 4, 1)\n",
    "plt.imshow(l_hsv)\n",
    "plt.subplot(1, 4, 2)\n",
    "plt.imshow(h)\n",
    "plt.subplot(1, 4, 3) \n",
    "plt.imshow(s)\n",
    "plt.subplot(1, 4, 4)\n",
    "plt.imshow(v)\n",
    "plt.show()\n"
   ]
  },
  {
   "cell_type": "code",
   "execution_count": null,
   "id": "e239223f",
   "metadata": {},
   "outputs": [],
   "source": [
    "import cv2\n",
    "import numpy as np\n",
    "import matplotlib.pyplot as plt\n",
    "\n",
    "l_rgb = cv2.imread('/Users/kjh001/Downloads/lenna.bmp')\n",
    "l_rgb = cv2.cvtColor(l_rgb, cv2.COLOR_BGR2RGB)\n",
    "r,g,b = cv2.split(l_rgb)\n",
    "\n",
    "plt.subplot(1, 4, 1)\n",
    "plt.imshow(l_rgb)\n",
    "plt.subplot(1, 4, 2)\n",
    "plt.imshow(r)\n",
    "plt.subplot(1, 4, 3) \n",
    "plt.imshow(g)\n",
    "plt.subplot(1, 4, 4)\n",
    "plt.imshow(b)\n",
    "plt.show()"
   ]
  }
 ],
 "metadata": {
  "kernelspec": {
   "display_name": "Python 3 (ipykernel)",
   "language": "python",
   "name": "python3"
  },
  "language_info": {
   "codemirror_mode": {
    "name": "ipython",
    "version": 3
   },
   "file_extension": ".py",
   "mimetype": "text/x-python",
   "name": "python",
   "nbconvert_exporter": "python",
   "pygments_lexer": "ipython3",
   "version": "3.9.7"
  }
 },
 "nbformat": 4,
 "nbformat_minor": 5
}
